{
 "cells": [
  {
   "cell_type": "markdown",
   "metadata": {},
   "source": [
    "## Report"
   ]
  },
  {
   "cell_type": "markdown",
   "metadata": {},
   "source": [
    "#### Who is interested\n",
    "any one who wants to open a restaurant in toronto \n",
    "\n",
    "#### the data\n",
    "the data of toronto neighborhoods from four square API\n",
    "\n",
    "#### methdology\n",
    "I have analyzed all the data of neighborhood city and clean it to get the 10 most venues in each neighborhood and then made machine learning techinque K-means clustring and choose the cluster with the least number of restaurants then choose from this cluster the neighborhood with the least number of resturaunts\n",
    "\n",
    "#### the result\n",
    "The Kingsway , Montgomery Road , Old Mill North is the best neighborhood to open a restaurant.\n",
    "\n"
   ]
  }
 ],
 "metadata": {
  "kernelspec": {
   "display_name": "Python 3",
   "language": "python",
   "name": "python3"
  },
  "language_info": {
   "codemirror_mode": {
    "name": "ipython",
    "version": 3
   },
   "file_extension": ".py",
   "mimetype": "text/x-python",
   "name": "python",
   "nbconvert_exporter": "python",
   "pygments_lexer": "ipython3",
   "version": "3.7.6"
  }
 },
 "nbformat": 4,
 "nbformat_minor": 4
}
